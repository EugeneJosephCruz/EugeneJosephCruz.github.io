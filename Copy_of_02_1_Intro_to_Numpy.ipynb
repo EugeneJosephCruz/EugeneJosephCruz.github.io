{
  "cells": [
    {
      "cell_type": "markdown",
      "metadata": {
        "id": "view-in-github",
        "colab_type": "text"
      },
      "source": [
        "<a href=\"https://colab.research.google.com/github/EugeneJosephCruz/EugeneJosephCruz.github.io/blob/main/Copy_of_02_1_Intro_to_Numpy.ipynb\" target=\"_parent\"><img src=\"https://colab.research.google.com/assets/colab-badge.svg\" alt=\"Open In Colab\"/></a>"
      ]
    },
    {
      "cell_type": "markdown",
      "id": "bdfbcacc",
      "metadata": {
        "id": "bdfbcacc"
      },
      "source": [
        "![alt text](https://github.com/4GeeksAcademy/machine-learning-prework/blob/main/02-numpy/assets/numpy_logo.png?raw=true)\n",
        "\n",
        "## Introduction to Numpy\n",
        "\n",
        "**Numpy** means **Numerical Python**. It is an open source library used to perform mathematical tasks with very high efficiency. In addition, it introduces data structures, multidimensional arrays, which can be operated on at a high level, without getting too much into the detail.\n",
        "\n",
        "Specifically, the keys to this library are:\n",
        "\n",
        "- **Multidimensional arrays**: This library provides an object called `ndarray`, which allows you to store and manipulate large data sets efficiently. Arrays can have any number of dimensions.\n",
        "- **Vectorized operations**: Numpy allows performing mathematical operations on complete arrays without the need for explicit loops in the code, which makes it very fast and efficient.\n",
        "- **Mathematical functions**: Numpy provides a wide range of mathematical functions for working with arrays, including trigonometric functions, statistics, linear algebra, among others.\n",
        "- **Efficiency**: It is much faster than the same functionality implemented directly on native Python. It is also very flexible in terms of accessing and manipulating individual elements or subsets of arrays.\n",
        "\n",
        "Numpy is a fundamental library for Machine Learning and data science in Python. It provides a wide range of tools and functions to work efficiently with numerical data in the form of arrays and matrices."
      ]
    },
    {
      "cell_type": "markdown",
      "id": "dc410026",
      "metadata": {
        "id": "dc410026"
      },
      "source": [
        "### Arrays\n",
        "\n",
        "A Numpy **array** is a data structure that allows you to store a collection of elements, usually numbers, in one or more dimensions.\n",
        "\n",
        "#### One-dimensional Array\n",
        "\n",
        "A one-dimensional (1D) array in Numpy is a data structure that contains a sequence of elements in a single dimension. It is similar to a list in Python, but with the performance and functionality advantages offered by Numpy.\n",
        "\n",
        "![alt text](https://github.com/4GeeksAcademy/machine-learning-prework/blob/main/02-numpy/assets/1D.png?raw=true \"1D\")\n",
        "\n",
        "A 1D array can be created using the `array` function of the library with a list of elements as argument. For example:"
      ]
    },
    {
      "cell_type": "code",
      "execution_count": null,
      "id": "d8a0686b",
      "metadata": {
        "colab": {
          "base_uri": "https://localhost:8080/"
        },
        "id": "d8a0686b",
        "outputId": "cfc8cfda-6491-44e3-f222-9ef891a6e89e"
      },
      "outputs": [
        {
          "output_type": "execute_result",
          "data": {
            "text/plain": [
              "array([1, 2, 3, 4, 5])"
            ]
          },
          "metadata": {},
          "execution_count": 2
        }
      ],
      "source": [
        "import numpy as np\n",
        "\n",
        "array = np.array([1, 2, 3, 4, 5])\n",
        "array"
      ]
    },
    {
      "cell_type": "markdown",
      "id": "e090f7a0",
      "metadata": {
        "id": "e090f7a0"
      },
      "source": [
        "This will create a 1D array with elements 1, 2, 3, 3, 4 and 5. The array elements must be of the same data type. If the elements are of different types, Numpy will try to convert them to the same type if possible.\n",
        "\n",
        "In a 1D array, we can access the elements using **indices**, modify them and perform mathematical operations on the whole array efficiently. Below are some operations that can be performed using the above array:"
      ]
    },
    {
      "cell_type": "code",
      "execution_count": null,
      "id": "a56cb1b0",
      "metadata": {
        "colab": {
          "base_uri": "https://localhost:8080/"
        },
        "id": "a56cb1b0",
        "outputId": "048ff0ff-d42e-435c-d4e6-298d91c32f02"
      },
      "outputs": [
        {
          "output_type": "stream",
          "name": "stdout",
          "text": [
            "3\n",
            "[1 7 3 4 5]\n",
            "[11 17 13 14 15]\n",
            "70\n"
          ]
        }
      ],
      "source": [
        "# Access the third element\n",
        "print(array[2])\n",
        "\n",
        "# Change the value of the second element\n",
        "array[1] = 7\n",
        "print(array)\n",
        "\n",
        "# Add 10 to all elements\n",
        "array += 10\n",
        "print(array)\n",
        "\n",
        "# Calculate the sum of the elements\n",
        "sum_all = np.sum(array)\n",
        "print(sum_all)"
      ]
    },
    {
      "cell_type": "markdown",
      "id": "322771b1",
      "metadata": {
        "id": "322771b1"
      },
      "source": [
        "#### N-dimensional Array\n",
        "\n",
        "A multidimensional or n-dimensional array in Numpy is a data structure that organizes elements in multiple dimensions (axes). These arrays allow you to represent more complex data structures, such as matrices (2D array, 2 axes), tensors (3D array, 3 axes) and higher dimensional structures.\n",
        "\n",
        "![alt text](https://github.com/4GeeksAcademy/machine-learning-prework/blob/main/02-numpy/assets/3D.png?raw=true \"3D\")\n",
        "\n",
        "An N-dimensional array can also be created using the `array` function of the library. For example, if we want to create a 2D array:"
      ]
    },
    {
      "cell_type": "code",
      "execution_count": null,
      "id": "2033ba3c",
      "metadata": {
        "colab": {
          "base_uri": "https://localhost:8080/"
        },
        "id": "2033ba3c",
        "outputId": "0edee02b-4ecf-4a78-d2ba-e632382494d9"
      },
      "outputs": [
        {
          "output_type": "execute_result",
          "data": {
            "text/plain": [
              "array([[1, 2, 3],\n",
              "       [4, 5, 6],\n",
              "       [7, 8, 9]])"
            ]
          },
          "metadata": {},
          "execution_count": 4
        }
      ],
      "source": [
        "array_2d = np.array([[1, 2, 3], [4, 5, 6], [7, 8, 9]])\n",
        "array_2d"
      ]
    },
    {
      "cell_type": "markdown",
      "id": "d3dac6c2",
      "metadata": {
        "id": "d3dac6c2"
      },
      "source": [
        "If we now wanted to create a 3D array, we would have to think of it as a list of arrays:"
      ]
    },
    {
      "cell_type": "code",
      "execution_count": null,
      "id": "bc914841",
      "metadata": {
        "colab": {
          "base_uri": "https://localhost:8080/"
        },
        "id": "bc914841",
        "outputId": "56bea655-d54e-4e91-c6bb-b85b834634be"
      },
      "outputs": [
        {
          "output_type": "execute_result",
          "data": {
            "text/plain": [
              "array([[[1, 2],\n",
              "        [3, 4]],\n",
              "\n",
              "       [[5, 6],\n",
              "        [7, 8]]])"
            ]
          },
          "metadata": {},
          "execution_count": 5
        }
      ],
      "source": [
        "array_3d = np.array([[[1, 2], [3, 4]], [[5, 6], [7, 8]]])\n",
        "array_3d"
      ]
    },
    {
      "cell_type": "markdown",
      "id": "da7bcb64",
      "metadata": {
        "id": "da7bcb64"
      },
      "source": [
        "As with 1D arrays, the elements in a multidimensional array are accessible via indexes, operations can be performed on them, and so on.\n",
        "\n",
        "As we add more dimensions, the basic principle remains the same: each additional dimension can be considered as an additional level of nesting. However, on a practical level, working with arrays of more than 3 or 4 dimensions can become more complex and less intuitive.\n",
        "\n",
        "The n-dimensional arrays in Numpy allow great flexibility and power to represent and manipulate data in more complex ways, especially useful in fields such as data science, image processing and deep learning."
      ]
    },
    {
      "cell_type": "markdown",
      "id": "d699ac98",
      "metadata": {
        "id": "d699ac98"
      },
      "source": [
        "### Functions\n",
        "\n",
        "Numpy provides a large number of predefined functions that can be applied directly to the data structures seen above or to Python's own data structures (lists, arrays, etc.). Some of the most commonly used in data analysis are:"
      ]
    },
    {
      "cell_type": "code",
      "execution_count": null,
      "id": "e7680306",
      "metadata": {
        "colab": {
          "base_uri": "https://localhost:8080/"
        },
        "id": "e7680306",
        "outputId": "3881e9a8-3af6-46cf-efe2-98c907b8aa45"
      },
      "outputs": [
        {
          "output_type": "stream",
          "name": "stdout",
          "text": [
            "Sum: [ 6  7  8  9 10]\n",
            "Product: [ 3  6  9 12 15]\n",
            "Natural logarithm: [0.         0.69314718 1.09861229 1.38629436 1.60943791]\n",
            "Exponential: [  2.71828183   7.3890561   20.08553692  54.59815003 148.4131591 ]\n",
            "Mean: 3.0\n",
            "Median: 3.0\n",
            "Standard Deviation: 1.4142135623730951\n",
            "Variance: 2.0\n",
            "Maximum value: 5\n",
            "Maximum value index: 4\n",
            "Minimum value: 1\n",
            "Minimum value index: 0\n",
            "Sum of all elements: 15\n",
            "Rounding: [1. 2. 4. 5.]\n",
            "Minor integer (floor): [1. 2. 3. 4.]\n",
            "Major integer (ceil): [2. 3. 4. 5.]\n"
          ]
        }
      ],
      "source": [
        "import numpy as np\n",
        "\n",
        "# Create an array for the example\n",
        "arr = np.array([1, 2, 3, 4, 5])\n",
        "\n",
        "# Arithmetic Operations\n",
        "print(\"Sum:\", np.add(arr, 5))\n",
        "print(\"Product:\", np.multiply(arr, 3))\n",
        "\n",
        "# Logarithmic and Exponential\n",
        "print(\"Natural logarithm:\", np.log(arr))\n",
        "print(\"Exponential:\", np.exp(arr))\n",
        "\n",
        "# Statistical Functions\n",
        "print(\"Mean:\", np.mean(arr))\n",
        "print(\"Median:\", np.median(arr))\n",
        "print(\"Standard Deviation:\", np.std(arr))\n",
        "print(\"Variance:\", np.var(arr))\n",
        "print(\"Maximum value:\", np.max(arr))\n",
        "print(\"Maximum value index:\", np.argmax(arr))\n",
        "print(\"Minimum value:\", np.min(arr))\n",
        "print(\"Minimum value index:\", np.argmin(arr))\n",
        "print(\"Sum of all elements:\", np.sum(arr))\n",
        "\n",
        "# Rounding Functions\n",
        "arr_decimal = np.array([1.23, 2.47, 3.56, 4.89])\n",
        "print(\"Rounding:\", np.around(arr_decimal))\n",
        "print(\"Minor integer (floor):\", np.floor(arr_decimal))\n",
        "print(\"Major integer (ceil):\", np.ceil(arr_decimal))"
      ]
    },
    {
      "cell_type": "markdown",
      "id": "51b5cda3",
      "metadata": {
        "id": "51b5cda3"
      },
      "source": [
        "## Exercises\n",
        "\n",
        "> Solution: https://github.com/4GeeksAcademy/machine-learning-prework/blob/main/02-numpy/02.1-Intro-to-Numpy_solutions.ipynb\n",
        "\n",
        "### Array creation"
      ]
    },
    {
      "cell_type": "markdown",
      "id": "e3c20b3d",
      "metadata": {
        "id": "e3c20b3d"
      },
      "source": [
        "#### Exercise 01: Create a **null vector** that contains 10 elements (★☆☆)\n",
        "\n",
        "A null vector is a one-dimensional array composed of zeros (`0`).\n",
        "\n",
        "> NOTE: Check the function `np.zeros` (https://numpy.org/doc/stable/reference/generated/numpy.zeros.html)"
      ]
    },
    {
      "cell_type": "code",
      "execution_count": null,
      "id": "8a758bcf",
      "metadata": {
        "colab": {
          "base_uri": "https://localhost:8080/"
        },
        "id": "8a758bcf",
        "outputId": "9adc24a8-f5d0-4ea6-a84f-61d745ecfba1"
      },
      "outputs": [
        {
          "output_type": "stream",
          "name": "stdout",
          "text": [
            "[0 0 0 0 0 0 0 0 0 0]\n"
          ]
        }
      ],
      "source": [
        "array_null_vector = np.zeros(10,int)\n",
        "print(array_null_vector)"
      ]
    },
    {
      "cell_type": "markdown",
      "id": "6cbe7954",
      "metadata": {
        "id": "6cbe7954"
      },
      "source": [
        "#### Exercise 02: Create a vector of ones with 10 elements (★☆☆)\n",
        "\n",
        "> NOTE: Check the function `np.ones` (https://numpy.org/doc/stable/reference/generated/numpy.ones.html)"
      ]
    },
    {
      "cell_type": "code",
      "execution_count": null,
      "id": "86477874",
      "metadata": {
        "colab": {
          "base_uri": "https://localhost:8080/"
        },
        "id": "86477874",
        "outputId": "e8dfc332-c1bf-4283-d0c6-29a8f4e604c3"
      },
      "outputs": [
        {
          "output_type": "stream",
          "name": "stdout",
          "text": [
            "[1 1 1 1 1 1 1 1 1 1]\n"
          ]
        }
      ],
      "source": [
        "vector = np.ones(10,int)\n",
        "print(vector)"
      ]
    },
    {
      "cell_type": "markdown",
      "id": "0a708990",
      "metadata": {
        "id": "0a708990"
      },
      "source": [
        "#### Exercise 03: Investigate the `linspace` function of Numpy and create an array with 10 elements (★☆☆)\n",
        "\n",
        "> NOTE: Check the function `np.linspace` (https://numpy.org/doc/stable/reference/generated/numpy.linspace.html)"
      ]
    },
    {
      "cell_type": "code",
      "execution_count": null,
      "id": "477e01f4",
      "metadata": {
        "colab": {
          "base_uri": "https://localhost:8080/"
        },
        "id": "477e01f4",
        "outputId": "beb1480c-5a3a-43e1-99c2-5be7a6488eae"
      },
      "outputs": [
        {
          "output_type": "stream",
          "name": "stdout",
          "text": [
            "[  1.+0.j  12.+0.j  23.+0.j  34.+0.j  45.+0.j  56.+0.j  67.+0.j  78.+0.j\n",
            "  89.+0.j 100.+0.j]\n"
          ]
        }
      ],
      "source": [
        "array = np.linspace(1,100,10,True, False,complex)\n",
        "print(array)"
      ]
    },
    {
      "cell_type": "markdown",
      "id": "9794fe71",
      "metadata": {
        "id": "9794fe71"
      },
      "source": [
        "#### Exercise 04: Find several ways to generate an array with random numbers and create a 1D array and two 2D arrays (★★☆)\n",
        "\n",
        "> NOTE: Check the functions `np.random.rand` (https://numpy.org/doc/stable/reference/random/generated/numpy.random.rand.html), `np.random.randint` (https://numpy.org/doc/stable/reference/random/generated/numpy.random.randint.html) and `np.random.randn` (https://numpy.org/doc/stable/reference/random/generated/numpy.random.randn.html)"
      ]
    },
    {
      "cell_type": "code",
      "execution_count": null,
      "id": "3d9a48a7",
      "metadata": {
        "colab": {
          "base_uri": "https://localhost:8080/"
        },
        "id": "3d9a48a7",
        "outputId": "3853d65b-22df-4a47-ba71-5c11e5f34199"
      },
      "outputs": [
        {
          "output_type": "stream",
          "name": "stdout",
          "text": [
            "[0.31460038 0.76135935 0.74184904 0.81679289 0.19431199 0.34768984\n",
            " 0.10668523 0.53796923 0.82146502 0.75695004]\n",
            "[[False False]\n",
            " [False False]]\n",
            "[[ 0.20285408 -0.23334445  0.74541245]\n",
            " [ 0.60865307  0.85411097  1.13856107]\n",
            " [-0.06094648 -1.92356174  0.64324776]]\n"
          ]
        }
      ],
      "source": [
        "from IPython.core.application import Bool\n",
        "array = np.random.rand(10)\n",
        "array1 = np.random.randint(0,2,(2,2),bool)\n",
        "array2 = np.random.randn(3,3)\n",
        "print(array)\n",
        "print(array1)\n",
        "print(array2)"
      ]
    },
    {
      "cell_type": "markdown",
      "id": "78a37e5c",
      "metadata": {
        "id": "78a37e5c"
      },
      "source": [
        "#### Exercise 05: Create a 5x5 identity matrix (2D array) (★☆☆)\n",
        "\n",
        "\n",
        "> NOTE: Check the function `np.eye`(https://numpy.org/devdocs/reference/generated/numpy.eye.html)"
      ]
    },
    {
      "cell_type": "code",
      "execution_count": null,
      "id": "a6751106",
      "metadata": {
        "colab": {
          "base_uri": "https://localhost:8080/"
        },
        "id": "a6751106",
        "outputId": "0f5a3b33-8c17-4f61-bee4-f626f991a5d5"
      },
      "outputs": [
        {
          "output_type": "stream",
          "name": "stdout",
          "text": [
            "[[0. 0. 0. 0. 1.]\n",
            " [0. 0. 0. 0. 0.]\n",
            " [0. 0. 0. 0. 0.]\n",
            " [0. 0. 0. 0. 0.]\n",
            " [0. 0. 0. 0. 0.]]\n"
          ]
        }
      ],
      "source": [
        "array = np.eye(5,5)\n",
        "print(array)"
      ]
    },
    {
      "cell_type": "markdown",
      "id": "08bb63e6",
      "metadata": {
        "id": "08bb63e6"
      },
      "source": [
        "#### Exercise 06: Create a 3x2 random number matrix and calculate the minimum and maximum value (★☆☆)\n",
        "\n",
        "> NOTE: Check the functions `np.min` (https://numpy.org/devdocs/reference/generated/numpy.where.html) and `np.max` (https://numpy.org/devdocs/reference/generated/numpy.max.html)"
      ]
    },
    {
      "cell_type": "code",
      "execution_count": null,
      "id": "3214cca1",
      "metadata": {
        "colab": {
          "base_uri": "https://localhost:8080/"
        },
        "id": "3214cca1",
        "outputId": "ba5d993d-84d4-4b26-8ad8-a40e15a01cf4"
      },
      "outputs": [
        {
          "output_type": "stream",
          "name": "stdout",
          "text": [
            "[[0.04762725 0.67766332]\n",
            " [0.54915909 0.48740036]\n",
            " [0.12552133 0.21181428]]\n",
            "0.04762725107372967\n",
            "0.6776633165306137\n"
          ]
        }
      ],
      "source": [
        "array = np.random.rand(3,2)\n",
        "print(array)\n",
        "print(np.min(array))\n",
        "print(np.max(array))"
      ]
    },
    {
      "cell_type": "markdown",
      "id": "57c6c275",
      "metadata": {
        "id": "57c6c275"
      },
      "source": [
        "#### Exercise 07: Create a vector of 30 elements that are random numbers and calculate the mean. (★☆☆)\n",
        "\n",
        "> NOTE: Check the function `np.mean` (https://numpy.org/doc/stable/reference/generated/numpy.mean.html)"
      ]
    },
    {
      "cell_type": "code",
      "execution_count": null,
      "id": "cc960ba5",
      "metadata": {
        "colab": {
          "base_uri": "https://localhost:8080/"
        },
        "id": "cc960ba5",
        "outputId": "66736500-0c21-42c9-9407-02a676aa7010"
      },
      "outputs": [
        {
          "output_type": "stream",
          "name": "stdout",
          "text": [
            "[[ 8  5]\n",
            " [27  1]]\n",
            "10.25\n"
          ]
        }
      ],
      "source": [
        "array = np.random.randint(1,30,(2,2))\n",
        "print(array)\n",
        "print(np.mean(array))\n"
      ]
    },
    {
      "cell_type": "markdown",
      "id": "2c801667",
      "metadata": {
        "id": "2c801667"
      },
      "source": [
        "#### Exercise 08: Converts the list `[1, 2, 3]` and the tuple `(1, 2, 3)` to arrays (★☆☆)"
      ]
    },
    {
      "cell_type": "code",
      "execution_count": null,
      "id": "3f36c71c",
      "metadata": {
        "colab": {
          "base_uri": "https://localhost:8080/"
        },
        "id": "3f36c71c",
        "outputId": "d252a602-2274-439c-d1b5-814a9fbfb97d"
      },
      "outputs": [
        {
          "output_type": "stream",
          "name": "stdout",
          "text": [
            "[1 2 3]\n",
            "[1 2 3]\n"
          ]
        }
      ],
      "source": [
        "the_list = [1,2,3]\n",
        "the_tuple = (1,2,3)\n",
        "the_array_from_list = np.array(the_list)\n",
        "print(the_array_from_list)\n",
        "the_array_from_tuple = np.array(the_tuple)\n",
        "print(the_array_from_tuple)"
      ]
    },
    {
      "cell_type": "markdown",
      "id": "962bb9fc",
      "metadata": {
        "id": "962bb9fc"
      },
      "source": [
        "### Operations between arrays"
      ]
    },
    {
      "cell_type": "markdown",
      "id": "48d48f01",
      "metadata": {
        "id": "48d48f01"
      },
      "source": [
        "#### Exercise 09: Invert the vector of the previous exercise (★☆☆)\n",
        "\n",
        "> NOTE: Check the function `np.flip` (https://numpy.org/doc/stable/reference/generated/numpy.flip.html)"
      ]
    },
    {
      "cell_type": "code",
      "execution_count": null,
      "id": "d3e13052",
      "metadata": {
        "colab": {
          "base_uri": "https://localhost:8080/"
        },
        "id": "d3e13052",
        "outputId": "89d02f36-28bd-4a7f-f068-c1e6f9c2cad3"
      },
      "outputs": [
        {
          "output_type": "stream",
          "name": "stdout",
          "text": [
            "[3 2 1]\n"
          ]
        }
      ],
      "source": [
        "print(np.flip(the_array_from_tuple))"
      ]
    },
    {
      "cell_type": "markdown",
      "id": "233addce",
      "metadata": {
        "id": "233addce"
      },
      "source": [
        "#### Exercise 10: Change the size of a random array of dimensions 5x12 into 12x5 (★☆☆)\n",
        "\n",
        "> NOTE: Check the function `np.reshape` (https://numpy.org/doc/stable/reference/generated/numpy.reshape.html)"
      ]
    },
    {
      "cell_type": "code",
      "execution_count": null,
      "id": "bfaed09f",
      "metadata": {
        "colab": {
          "base_uri": "https://localhost:8080/"
        },
        "id": "bfaed09f",
        "outputId": "faef831a-7c29-40b1-8536-dc1fd20631f8"
      },
      "outputs": [
        {
          "output_type": "stream",
          "name": "stdout",
          "text": [
            "[[ 6  8  1  2 10  3 11  6 10  3 10  9]\n",
            " [ 4  5 13  2 11  2  9 11  9 12  4 12]\n",
            " [ 1  7  3  3 11  7 13  3  6  2 13 12]\n",
            " [ 9  4  1  8  8 14 14 11  8 12 10  8]\n",
            " [ 6 10  1 10  5 14  7 12  5 14  6  1]]\n",
            "[[ 6  8  1  2 10]\n",
            " [ 3 11  6 10  3]\n",
            " [10  9  4  5 13]\n",
            " [ 2 11  2  9 11]\n",
            " [ 9 12  4 12  1]\n",
            " [ 7  3  3 11  7]\n",
            " [13  3  6  2 13]\n",
            " [12  9  4  1  8]\n",
            " [ 8 14 14 11  8]\n",
            " [12 10  8  6 10]\n",
            " [ 1 10  5 14  7]\n",
            " [12  5 14  6  1]]\n"
          ]
        }
      ],
      "source": [
        "array = np.random.randint(1,15,(5,12), int)\n",
        "print(array)\n",
        "print(array.reshape(12,5))"
      ]
    },
    {
      "cell_type": "markdown",
      "id": "645e5381",
      "metadata": {
        "id": "645e5381"
      },
      "source": [
        "#### Exercise 11: Convert the list `[1, 2, 0, 0, 0, 4, 0]` into an array and get the index of the non-zero elements (★★☆)\n",
        "\n",
        "> NOTE: Check the function `np.where` (https://numpy.org/devdocs/reference/generated/numpy.where.html)"
      ]
    },
    {
      "cell_type": "code",
      "execution_count": null,
      "id": "b2652fee",
      "metadata": {
        "colab": {
          "base_uri": "https://localhost:8080/"
        },
        "id": "b2652fee",
        "outputId": "bfcabc82-8471-44db-cc82-220357dff598"
      },
      "outputs": [
        {
          "output_type": "stream",
          "name": "stdout",
          "text": [
            "[1 2 0 0 0 4 0]\n",
            "(array([0, 1, 5]),)\n"
          ]
        }
      ],
      "source": [
        "a_list = [1, 2, 0, 0, 0, 4, 0]\n",
        "array_from_list = np.array(a_list)\n",
        "print(array_from_list)\n",
        "print(np.where(array_from_list!=0))\n"
      ]
    },
    {
      "cell_type": "markdown",
      "id": "e7948dbb",
      "metadata": {
        "id": "e7948dbb"
      },
      "source": [
        "#### Exercise 12: Convert the list `[0, 5, -1, 3, 15]` into an array, multiply its values by `-2` and obtain the even elements (★★☆)"
      ]
    },
    {
      "cell_type": "code",
      "execution_count": null,
      "metadata": {
        "colab": {
          "base_uri": "https://localhost:8080/"
        },
        "id": "O8MKBDIYX405",
        "outputId": "d4272ec3-fc83-43cb-9cbe-340c014a2457"
      },
      "outputs": [
        {
          "output_type": "stream",
          "name": "stdout",
          "text": [
            "[0, 5, -1, 3, 15]\n",
            "[ 0  5 -1  3 15]\n",
            "[  0 -10   2  -6 -30]\n",
            "(array([0, 1, 2, 3, 4]),)\n"
          ]
        }
      ],
      "source": [
        "x = [0,5,-1,3,15]\n",
        "y = np.array(x)\n",
        "z = y*-2\n",
        "a = np.where(z%2==0)\n",
        "print(x)\n",
        "print(y)\n",
        "print(z)\n",
        "print(a)\n"
      ],
      "id": "O8MKBDIYX405"
    },
    {
      "cell_type": "markdown",
      "id": "a90d6f3e",
      "metadata": {
        "id": "a90d6f3e"
      },
      "source": [
        "#### Exercise 13: Create a random vector of 10 elements and order it from smallest to largest (★★☆)\n",
        "\n",
        "> NOTE: Check the function `np.sort` (https://numpy.org/doc/stable/reference/generated/numpy.sort.html)"
      ]
    },
    {
      "cell_type": "code",
      "execution_count": null,
      "id": "bc373a83",
      "metadata": {
        "colab": {
          "base_uri": "https://localhost:8080/"
        },
        "id": "bc373a83",
        "outputId": "215c58a5-e2b6-4799-fd44-1d5da52aae13"
      },
      "outputs": [
        {
          "output_type": "stream",
          "name": "stdout",
          "text": [
            "[0.58969902 0.09595823 0.49462306 0.89849176 0.25014633 0.15487448\n",
            " 0.20975665 0.06924297 0.03472217 0.39288547]\n",
            "[0.03472217 0.06924297 0.09595823 0.15487448 0.20975665 0.25014633\n",
            " 0.39288547 0.49462306 0.58969902 0.89849176]\n"
          ]
        }
      ],
      "source": [
        "a = np.random.rand(10)\n",
        "b = np.sort(a)\n",
        "print(a)\n",
        "print(b)"
      ]
    },
    {
      "cell_type": "markdown",
      "id": "5e9b6115",
      "metadata": {
        "id": "5e9b6115"
      },
      "source": [
        "#### Exercise 14: Generate two random vectors of 8 elements and apply the operations of addition, subtraction and multiplication between them (★★☆)\n",
        "\n",
        "> NOTE: Check the math module functions: https://numpy.org/doc/stable/reference/routines.math.html"
      ]
    },
    {
      "cell_type": "code",
      "execution_count": null,
      "id": "cc77e421",
      "metadata": {
        "colab": {
          "base_uri": "https://localhost:8080/"
        },
        "id": "cc77e421",
        "outputId": "2e3881a0-6f4a-42ea-9537-4d82dc00e9d2"
      },
      "outputs": [
        {
          "output_type": "stream",
          "name": "stdout",
          "text": [
            "[18 12 31 49 35 17  3 28]\n",
            "[ 9 31 20 32 42 20 10 11]\n",
            "[27 43 51 81 77 37 13 39]\n",
            "[  9 -19  11  17  -7  -3  -7  17]\n",
            "[ 162  372  620 1568 1470  340   30  308]\n"
          ]
        }
      ],
      "source": [
        "a = np.random.randint(1,50,8)\n",
        "print(a)\n",
        "b = np.random.randint(1,50,8)\n",
        "print(b)\n",
        "print(a+b)\n",
        "print(a-b)\n",
        "print(a*b)"
      ]
    },
    {
      "cell_type": "markdown",
      "id": "c8e8daa0",
      "metadata": {
        "id": "c8e8daa0"
      },
      "source": [
        "#### Exercise 15: Convert the list `[1, 2, 3, 4, 5, 6, 7, 8, 9, 10, 11, 12]` into an array and transform it into a matrix with rows of 3 columns (★★★)"
      ]
    },
    {
      "cell_type": "code",
      "execution_count": null,
      "metadata": {
        "colab": {
          "base_uri": "https://localhost:8080/"
        },
        "id": "mpxk8t8GX40_",
        "outputId": "e99c6d51-1dec-4eed-b9ce-ab1ad3cdbd77"
      },
      "outputs": [
        {
          "output_type": "stream",
          "name": "stdout",
          "text": [
            "[1, 2, 3, 4, 5, 6, 7, 8, 9, 10, 11, 12]\n",
            "[ 1  2  3  4  5  6  7  8  9 10 11 12]\n",
            "[[ 1  2  3]\n",
            " [ 4  5  6]\n",
            " [ 7  8  9]\n",
            " [10 11 12]]\n"
          ]
        }
      ],
      "source": [
        "a = [i for i in range(1,13)]\n",
        "print(a)\n",
        "b = np.array(a)\n",
        "print(b)\n",
        "c = np.reshape(b,[4,3])\n",
        "print(c)"
      ],
      "id": "mpxk8t8GX40_"
    }
  ],
  "metadata": {
    "kernelspec": {
      "display_name": "Python 3",
      "language": "python",
      "name": "python3"
    },
    "language_info": {
      "codemirror_mode": {
        "name": "ipython",
        "version": 3
      },
      "file_extension": ".py",
      "mimetype": "text/x-python",
      "name": "python",
      "nbconvert_exporter": "python",
      "pygments_lexer": "ipython3",
      "version": "3.11.4"
    },
    "colab": {
      "provenance": [],
      "include_colab_link": true
    }
  },
  "nbformat": 4,
  "nbformat_minor": 5
}